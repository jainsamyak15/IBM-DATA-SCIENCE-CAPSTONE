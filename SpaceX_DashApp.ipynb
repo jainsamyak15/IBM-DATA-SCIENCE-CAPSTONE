{
 "cells": [
  {
   "cell_type": "code",
   "execution_count": 2,
   "id": "199ce740-13aa-4626-a0ab-edc98d849e9b",
   "metadata": {},
   "outputs": [
    {
     "name": "stdout",
     "output_type": "stream",
     "text": [
      "min_payload:0.0 max_payload: 9600.0\n"
     ]
    },
    {
     "data": {
      "text/html": [
       "\n",
       "        <iframe\n",
       "            width=\"100%\"\n",
       "            height=\"650\"\n",
       "            src=\"http://localhost:5000/\"\n",
       "            frameborder=\"0\"\n",
       "            allowfullscreen\n",
       "            \n",
       "        ></iframe>\n",
       "        "
      ],
      "text/plain": [
       "<IPython.lib.display.IFrame at 0x1d7b34dad10>"
      ]
     },
     "metadata": {},
     "output_type": "display_data"
    }
   ],
   "source": [
    "import pandas as pd\n",
    "import dash\n",
    "from dash import html, dcc\n",
    "from dash.dependencies import Input, Output\n",
    "import plotly.express as px\n",
    "\n",
    "spacex_df = pd.read_csv(\"spacex_launch_dash.csv\")\n",
    "max_payload = spacex_df['Payload Mass (kg)'].max()\n",
    "min_payload = spacex_df['Payload Mass (kg)'].min()\n",
    "print('min_payload:%s max_payload: %s' % (min_payload, max_payload))\n",
    "\n",
    "app = dash.Dash(__name__)\n",
    "\n",
    "ddc_options = [{'label': 'All Sites', 'value': 'ALL'}]\n",
    "for site in spacex_df['Launch Site'].unique().tolist():\n",
    "    ddc_options.append({\n",
    "        'label': site, 'value': site\n",
    "    })\n",
    "\n",
    "\n",
    "# Create an app layout\n",
    "app.layout = html.Div(children=[html.H1('SpaceX Launch Records Dashboard',\n",
    "                                        style={'textAlign': 'center', 'color': '#503D36',\n",
    "                                               'font-size': 40}),\n",
    "                               \n",
    "                                dcc.Dropdown(\n",
    "                                     id='site-dropdown',\n",
    "                                     options=ddc_options,\n",
    "                                     value='ALL',\n",
    "                                     placeholder='Select a Launch Site here',\n",
    "                                     searchable=True\n",
    "                                ),\n",
    "                                \n",
    "                                html.Br(),\n",
    "\n",
    "                               \n",
    "                                html.Div(dcc.Graph(id='success-pie-chart')),\n",
    "                                html.Br(),\n",
    "\n",
    "                                html.P(\"Payload range (Kg):\"),\n",
    "             \n",
    "                                dcc.RangeSlider(\n",
    "                                    id='payload-slider',\n",
    "                                    min=0,\n",
    "                                    max=10000,\n",
    "                                    step=1000,\n",
    "                                    value=[int(min_payload),int(max_payload)],\n",
    "                                    marks={\n",
    "                                        0: '0',\n",
    "                                        2500: '2500',\n",
    "                                        5000: '5000',\n",
    "                                        7500: '7500',\n",
    "                                        10000: '10000'\n",
    "                                    },\n",
    "                                ),\n",
    "\n",
    "                               \n",
    "                                html.Div(\n",
    "                                    dcc.Graph(id='success-payload-scatter-chart')),\n",
    "                                ])\n",
    "\n",
    "\n",
    "@app.callback(\n",
    "    Output(component_id='success-pie-chart', component_property='figure'),\n",
    "    Input(component_id='site-dropdown', component_property='value')\n",
    ")\n",
    "def update_pie_chart(selected_site):\n",
    "    if selected_site == 'ALL':\n",
    "        # Aggregate the data for all launch sites\n",
    "        success_df = spacex_df.groupby('Launch Site')['class'].value_counts().unstack().reset_index()\n",
    "        success_df.fillna(0, inplace=True)  \n",
    "        success_df['Total'] = success_df[1] + success_df[0]  # Calculate total launches\n",
    "        fig = px.pie(success_df, names='Launch Site', values='Total', title='Total Success Launches by Site')\n",
    "    else:\n",
    "        # Filter data for the selected launch site\n",
    "        site_df = spacex_df[spacex_df['Launch Site'] == selected_site]['class'].value_counts().reset_index()\n",
    "        site_df.columns = ['class', 'Count']\n",
    "        fig = px.pie(site_df, names='class', values='Count', title=f'Success Launches at {selected_site}')\n",
    "    return fig\n",
    "\n",
    "\n",
    "@app.callback(\n",
    "    Output(component_id='success-payload-scatter-chart', component_property='figure'),\n",
    "    [Input(component_id='site-dropdown', component_property='value'), Input(component_id=\"payload-slider\", component_property=\"value\")]\n",
    ")\n",
    "def update_scatter_chart(selected_site, payload_range):\n",
    "    filtered_df = spacex_df[spacex_df['Payload Mass (kg)'].between(payload_range[0],payload_range[1])]\n",
    "\n",
    "    if selected_site != 'ALL':\n",
    "        filtered_df = filtered_df[filtered_df['Launch Site'] == selected_site]\n",
    "\n",
    "    fig = px.scatter(\n",
    "        filtered_df,\n",
    "        x='Payload Mass (kg)',\n",
    "        y='class',\n",
    "        color='Booster Version Category'\n",
    "    )\n",
    "\n",
    "    return fig\n",
    "\n",
    "if __name__ == '__main__':\n",
    "    app.run_server(host = \"localhost\",port = 5000)"
   ]
  },
  {
   "cell_type": "code",
   "execution_count": null,
   "id": "fee45803-a189-460d-a46f-937d171d4a79",
   "metadata": {},
   "outputs": [],
   "source": [
    "pin freeze "
   ]
  }
 ],
 "metadata": {
  "kernelspec": {
   "display_name": "Python 3 (ipykernel)",
   "language": "python",
   "name": "python3"
  },
  "language_info": {
   "codemirror_mode": {
    "name": "ipython",
    "version": 3
   },
   "file_extension": ".py",
   "mimetype": "text/x-python",
   "name": "python",
   "nbconvert_exporter": "python",
   "pygments_lexer": "ipython3",
   "version": "3.11.8"
  }
 },
 "nbformat": 4,
 "nbformat_minor": 5
}
